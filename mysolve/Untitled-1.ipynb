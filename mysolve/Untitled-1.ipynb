{
 "cells": [
  {
   "cell_type": "code",
   "execution_count": 26,
   "source": [
    "from preprocess import preprocess\r\n",
    "from model import Net\r\n",
    "import torch\r\n",
    "batch_size=2\r\n",
    "features_num=4\r\n",
    "data_path='t.csv'\r\n",
    "vocab_path='vocab/vocab.txt'\r\n",
    "config_path=\"config/model_config.json\"\r\n",
    "model_path='pytorch_model.bin'\r\n",
    "clip=1e-1\r\n",
    "pos_tensor=torch.ones(batch_size,features_num).detach()\r\n",
    "neg_tensor=torch.zeros(batch_size,features_num).detach()"
   ],
   "outputs": [],
   "metadata": {}
  },
  {
   "cell_type": "code",
   "execution_count": 27,
   "source": [
    "model=Net(config_path=config_path,\r\n",
    "    model_path=model_path,\r\n",
    "    output_features=features_num\r\n",
    ")"
   ],
   "outputs": [],
   "metadata": {}
  },
  {
   "cell_type": "code",
   "execution_count": 28,
   "source": [
    "dataloader=preprocess(data_path=data_path,vocab_path=vocab_path,features_nums=features_num,batch_size=batch_size)"
   ],
   "outputs": [],
   "metadata": {}
  },
  {
   "cell_type": "code",
   "execution_count": 29,
   "source": [
    "\r\n",
    "for batch,(line,pos,neg) in enumerate(dataloader) :\r\n",
    "    output=model(line)\r\n",
    "    print(f\"output{output}\")\r\n",
    "    loss_pos=-torch.log(output)*pos\r\n",
    "    print(f\"pos:{loss_pos}\")\r\n",
    "    loss_neg=-torch.log(1-output)*neg\r\n",
    "    print(f\"neg:{loss_neg}\")\r\n",
    "    loss=loss_pos+loss_neg\r\n",
    "    print(loss)\r\n",
    "    print(loss.sum(dim=1))"
   ],
   "outputs": [
    {
     "output_type": "stream",
     "name": "stdout",
     "text": [
      "outputtensor([[1.0000, 0.2748, 0.4752, 0.3599],\n",
      "        [0.3691, 0.2495, 1.0000, 0.9044]], grad_fn=<DivBackward0>)\n",
      "pos:tensor([[-0.0000, 1.2917, 0.7439, 0.0000],\n",
      "        [0.9967, 1.3884, -0.0000, 0.0000]], grad_fn=<MulBackward0>)\n",
      "neg:tensor([[   nan, 0.3213, 0.6448, 0.4461],\n",
      "        [0.0000, 0.2870,    inf, 0.0000]], grad_fn=<MulBackward0>)\n",
      "tensor([[   nan, 1.6130, 1.3887, 0.4461],\n",
      "        [0.9967, 1.6754,    inf, 0.0000]], grad_fn=<AddBackward0>)\n",
      "tensor([nan, inf], grad_fn=<SumBackward1>)\n"
     ]
    }
   ],
   "metadata": {}
  },
  {
   "cell_type": "code",
   "execution_count": 10,
   "source": [],
   "outputs": [
    {
     "output_type": "execute_result",
     "data": {
      "text/plain": [
       "tensor([[1., 1., 1.,  ..., 1., 1., 1.],\n",
       "        [1., 1., 1.,  ..., 1., 1., 1.]])"
      ]
     },
     "metadata": {},
     "execution_count": 10
    }
   ],
   "metadata": {}
  },
  {
   "cell_type": "code",
   "execution_count": null,
   "source": [],
   "outputs": [],
   "metadata": {}
  }
 ],
 "metadata": {
  "orig_nbformat": 4,
  "language_info": {
   "name": "python",
   "version": "3.8.8",
   "mimetype": "text/x-python",
   "codemirror_mode": {
    "name": "ipython",
    "version": 3
   },
   "pygments_lexer": "ipython3",
   "nbconvert_exporter": "python",
   "file_extension": ".py"
  },
  "kernelspec": {
   "name": "python3",
   "display_name": "Python 3.8.8 64-bit ('base': conda)"
  },
  "interpreter": {
   "hash": "40c4e17f077218d16613fe0a521debfb2207e39289331d3ad681e8733da961f0"
  }
 },
 "nbformat": 4,
 "nbformat_minor": 2
}