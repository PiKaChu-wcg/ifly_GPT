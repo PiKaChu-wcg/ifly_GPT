{
 "cells": [
  {
   "cell_type": "code",
   "execution_count": 37,
   "source": [
    "r'''\r\n",
    "Author       : PiKaChu_wcg\r\n",
    "Date         : 2021-08-04 21:46:14\r\n",
    "LastEditors  : PiKachu_wcg\r\n",
    "LastEditTime : 2021-08-12 03:51:38\r\n",
    "FilePath     : \\ifly\\train.py\r\n",
    "'''\r\n",
    "from tensorboardX import SummaryWriter\r\n",
    "from preprocess import preprocess\r\n",
    "from model import Net\r\n",
    "import torch\r\n",
    "from tqdm import tqdm\r\n",
    "from IPython.display import  clear_output  \r\n",
    "import torch.nn as nn\r\n",
    "from IPython.core.interactiveshell import InteractiveShell \r\n",
    "clear_output()\r\n",
    "print(f\"Setup complete. Using torch {torch.__version__} ({torch.cuda.get_device_properties(0).name if torch.cuda.is_available() else 'CPU'})\")\r\n",
    "batch_size=2\r\n",
    "data_path='data/train_data.csv'\r\n",
    "vocab_path='vocab/vocab.txt'\r\n",
    "model_path='model/exp1.pth'\r\n",
    "q_level=5\r\n",
    "epoch=30\r\n",
    "use_gpu=torch.cuda.is_available()\r\n",
    "writer=SummaryWriter(\"runs/exp1\")\r\n",
    "dataloader,KD,d=preprocess(\r\n",
    "    data_path=data_path,\r\n",
    "    vocab_path=vocab_path,\r\n",
    "    batch_size=batch_size,\r\n",
    "    k_level=3\r\n",
    ")\r\n",
    "model=torch.load(model_path)\r\n",
    "if use_gpu:\r\n",
    "    model=model.cuda()\r\n",
    "for param in model.parameters():\r\n",
    "    param.requires_grad=True\r\n",
    "s=model.slice()\r\n",
    "optimizer = torch.optim.SGD(model.parameters(), lr=5e-4)\r\n",
    "loss_fn=nn.CrossEntropyLoss()\r\n",
    "for e in range(epoch):\r\n",
    "    err=[]\r\n",
    "    for batch,item in tqdm(enumerate(dataloader)):\r\n",
    "        _=model.train()\r\n",
    "        input=[]\r\n",
    "        if(use_gpu):\r\n",
    "            for i in item:\r\n",
    "                i=i.cuda()\r\n",
    "                input.append(i)\r\n",
    "        else :\r\n",
    "            input=item\r\n",
    "        output=model(input[0])\r\n",
    "        loss=torch.cat([loss_fn(output[...,s[i]:s[i+1]],input[i+1]).view(1) for i in range(4)])\r\n",
    "        loss=loss.mean()\r\n",
    "        optimizer.zero_grad()\r\n",
    "        loss.backward()\r\n",
    "        optimizer.step()\r\n",
    "        err.append(loss.cpu().item())\r\n",
    "    writer.add_scalar(\"loss\",sum(err)/len(err),e)\r\n",
    "    print(sum(err)/len(err))\r\n",
    "    if e%5==0 and e>=10:\r\n",
    "        torch.save(model,\"model/exp1/modele\"+str(e)+\".pth\")\r\n",
    "\r\n"
   ],
   "outputs": [
    {
     "output_type": "stream",
     "name": "stdout",
     "text": [
      "Setup complete. Using torch 1.9.0 (GeForce GTX 1050 Ti)\n"
     ]
    },
    {
     "output_type": "stream",
     "name": "stderr",
     "text": [
      "2320it [04:17,  9.00it/s]\n",
      "2it [00:00, 10.39it/s]"
     ]
    },
    {
     "output_type": "stream",
     "name": "stdout",
     "text": [
      "0.8813266413446901\n"
     ]
    },
    {
     "output_type": "stream",
     "name": "stderr",
     "text": [
      "2320it [04:19,  8.94it/s]\n",
      "1it [00:00,  8.35it/s]"
     ]
    },
    {
     "output_type": "stream",
     "name": "stdout",
     "text": [
      "0.8204962024400975\n"
     ]
    },
    {
     "output_type": "stream",
     "name": "stderr",
     "text": [
      "2320it [04:14,  9.11it/s]\n",
      "2it [00:00, 12.38it/s]"
     ]
    },
    {
     "output_type": "stream",
     "name": "stdout",
     "text": [
      "0.7864974437795322\n"
     ]
    },
    {
     "output_type": "stream",
     "name": "stderr",
     "text": [
      "2320it [04:16,  9.04it/s]\n",
      "1it [00:00,  8.08it/s]"
     ]
    },
    {
     "output_type": "stream",
     "name": "stdout",
     "text": [
      "0.746535225869317\n"
     ]
    },
    {
     "output_type": "stream",
     "name": "stderr",
     "text": [
      "2320it [04:16,  9.05it/s]\n",
      "2it [00:00, 14.12it/s]"
     ]
    },
    {
     "output_type": "stream",
     "name": "stdout",
     "text": [
      "0.7154944125530792\n"
     ]
    },
    {
     "output_type": "stream",
     "name": "stderr",
     "text": [
      "2320it [04:15,  9.08it/s]\n",
      "0it [00:00, ?it/s]"
     ]
    },
    {
     "output_type": "stream",
     "name": "stdout",
     "text": [
      "0.6838725642333257\n"
     ]
    },
    {
     "output_type": "stream",
     "name": "stderr",
     "text": [
      "2320it [04:17,  9.00it/s]\n",
      "1it [00:00,  8.64it/s]"
     ]
    },
    {
     "output_type": "stream",
     "name": "stdout",
     "text": [
      "0.652710270217684\n"
     ]
    },
    {
     "output_type": "stream",
     "name": "stderr",
     "text": [
      "2320it [04:16,  9.06it/s]\n",
      "1it [00:00,  8.02it/s]"
     ]
    },
    {
     "output_type": "stream",
     "name": "stdout",
     "text": [
      "0.626902257618976\n"
     ]
    },
    {
     "output_type": "stream",
     "name": "stderr",
     "text": [
      "2320it [04:15,  9.07it/s]\n",
      "1it [00:00,  5.42it/s]"
     ]
    },
    {
     "output_type": "stream",
     "name": "stdout",
     "text": [
      "0.5889181563935788\n"
     ]
    },
    {
     "output_type": "stream",
     "name": "stderr",
     "text": [
      "2320it [04:15,  9.07it/s]\n",
      "0it [00:00, ?it/s]"
     ]
    },
    {
     "output_type": "stream",
     "name": "stdout",
     "text": [
      "0.5653847244945516\n"
     ]
    },
    {
     "output_type": "stream",
     "name": "stderr",
     "text": [
      "2320it [04:16,  9.06it/s]\n"
     ]
    },
    {
     "output_type": "stream",
     "name": "stdout",
     "text": [
      "0.5418066255459241\n"
     ]
    },
    {
     "output_type": "stream",
     "name": "stderr",
     "text": [
      "2320it [04:16,  9.05it/s]\n",
      "1it [00:00,  6.55it/s]"
     ]
    },
    {
     "output_type": "stream",
     "name": "stdout",
     "text": [
      "0.5190509464158195\n"
     ]
    },
    {
     "output_type": "stream",
     "name": "stderr",
     "text": [
      "2320it [04:18,  8.98it/s]\n",
      "2it [00:00, 13.93it/s]"
     ]
    },
    {
     "output_type": "stream",
     "name": "stdout",
     "text": [
      "0.49161949314112807\n"
     ]
    },
    {
     "output_type": "stream",
     "name": "stderr",
     "text": [
      "2320it [04:17,  8.99it/s]\n",
      "2it [00:00, 15.30it/s]"
     ]
    },
    {
     "output_type": "stream",
     "name": "stdout",
     "text": [
      "0.47353121228676676\n"
     ]
    },
    {
     "output_type": "stream",
     "name": "stderr",
     "text": [
      "2320it [04:15,  9.08it/s]\n",
      "2it [00:00, 11.79it/s]"
     ]
    },
    {
     "output_type": "stream",
     "name": "stdout",
     "text": [
      "0.4551415231624811\n"
     ]
    },
    {
     "output_type": "stream",
     "name": "stderr",
     "text": [
      "2320it [04:15,  9.09it/s]\n"
     ]
    },
    {
     "output_type": "stream",
     "name": "stdout",
     "text": [
      "0.42746737378504895\n"
     ]
    },
    {
     "output_type": "stream",
     "name": "stderr",
     "text": [
      "2320it [04:16,  9.04it/s]\n",
      "1it [00:00,  8.43it/s]"
     ]
    },
    {
     "output_type": "stream",
     "name": "stdout",
     "text": [
      "0.4151937218166181\n"
     ]
    },
    {
     "output_type": "stream",
     "name": "stderr",
     "text": [
      "2320it [04:15,  9.08it/s]\n",
      "0it [00:00, ?it/s]"
     ]
    },
    {
     "output_type": "stream",
     "name": "stdout",
     "text": [
      "0.38958403111017986\n"
     ]
    },
    {
     "output_type": "stream",
     "name": "stderr",
     "text": [
      "2320it [04:15,  9.08it/s]\n",
      "2it [00:00, 14.12it/s]"
     ]
    },
    {
     "output_type": "stream",
     "name": "stdout",
     "text": [
      "0.3708695131538693\n"
     ]
    },
    {
     "output_type": "stream",
     "name": "stderr",
     "text": [
      "2320it [04:16,  9.05it/s]\n",
      "1it [00:00,  7.81it/s]"
     ]
    },
    {
     "output_type": "stream",
     "name": "stdout",
     "text": [
      "0.3553873332968014\n"
     ]
    },
    {
     "output_type": "stream",
     "name": "stderr",
     "text": [
      "2320it [04:16,  9.05it/s]\n"
     ]
    },
    {
     "output_type": "stream",
     "name": "stdout",
     "text": [
      "0.34086789329745004\n"
     ]
    },
    {
     "output_type": "stream",
     "name": "stderr",
     "text": [
      "2320it [04:16,  9.04it/s]\n",
      "1it [00:00,  9.64it/s]"
     ]
    },
    {
     "output_type": "stream",
     "name": "stdout",
     "text": [
      "0.3236192053416744\n"
     ]
    },
    {
     "output_type": "stream",
     "name": "stderr",
     "text": [
      "2320it [04:14,  9.10it/s]\n",
      "2it [00:00, 11.86it/s]"
     ]
    },
    {
     "output_type": "stream",
     "name": "stdout",
     "text": [
      "0.3092921131856515\n"
     ]
    },
    {
     "output_type": "stream",
     "name": "stderr",
     "text": [
      "2320it [04:15,  9.07it/s]\n",
      "0it [00:00, ?it/s]"
     ]
    },
    {
     "output_type": "stream",
     "name": "stdout",
     "text": [
      "0.29974936178668626\n"
     ]
    },
    {
     "output_type": "stream",
     "name": "stderr",
     "text": [
      "2320it [04:17,  9.01it/s]\n",
      "2it [00:00, 14.64it/s]"
     ]
    },
    {
     "output_type": "stream",
     "name": "stdout",
     "text": [
      "0.278486183990628\n"
     ]
    },
    {
     "output_type": "stream",
     "name": "stderr",
     "text": [
      "2320it [04:14,  9.10it/s]\n"
     ]
    },
    {
     "output_type": "stream",
     "name": "stdout",
     "text": [
      "0.2670800720148816\n"
     ]
    },
    {
     "output_type": "stream",
     "name": "stderr",
     "text": [
      "2320it [04:16,  9.06it/s]\n",
      "2it [00:00, 12.61it/s]"
     ]
    },
    {
     "output_type": "stream",
     "name": "stdout",
     "text": [
      "0.25774381726353973\n"
     ]
    },
    {
     "output_type": "stream",
     "name": "stderr",
     "text": [
      "2320it [04:15,  9.09it/s]\n",
      "2it [00:00, 13.28it/s]"
     ]
    },
    {
     "output_type": "stream",
     "name": "stdout",
     "text": [
      "0.24560609494721325\n"
     ]
    },
    {
     "output_type": "stream",
     "name": "stderr",
     "text": [
      "2320it [04:14,  9.11it/s]\n",
      "0it [00:00, ?it/s]"
     ]
    },
    {
     "output_type": "stream",
     "name": "stdout",
     "text": [
      "0.2357211320544593\n"
     ]
    },
    {
     "output_type": "stream",
     "name": "stderr",
     "text": [
      "2320it [04:16,  9.04it/s]"
     ]
    },
    {
     "output_type": "stream",
     "name": "stdout",
     "text": [
      "0.22739941679093795\n"
     ]
    },
    {
     "output_type": "stream",
     "name": "stderr",
     "text": [
      "\n"
     ]
    }
   ],
   "metadata": {}
  },
  {
   "cell_type": "code",
   "execution_count": 32,
   "source": [
    "\r\n",
    "\r\n",
    "\r\n"
   ],
   "outputs": [
    {
     "output_type": "stream",
     "name": "stderr",
     "text": [
      "800it [02:43,  5.01it/s]"
     ]
    },
    {
     "output_type": "stream",
     "name": "stdout",
     "text": [
      "tensor([[-9.8298, 13.1032,  8.2079,  ...,  0.9859, -3.7806,  3.9004]],\n",
      "       grad_fn=<AddmmBackward>)\n"
     ]
    },
    {
     "output_type": "stream",
     "name": "stderr",
     "text": [
      "990it [03:17,  5.02it/s]\n"
     ]
    },
    {
     "output_type": "error",
     "ename": "AttributeError",
     "evalue": "can't set attribute",
     "traceback": [
      "\u001b[1;31m---------------------------------------------------------------------------\u001b[0m",
      "\u001b[1;31mAttributeError\u001b[0m                            Traceback (most recent call last)",
      "\u001b[1;32m~\\anaconda3\\lib\\site-packages\\pandas\\core\\generic.py\u001b[0m in \u001b[0;36m__setattr__\u001b[1;34m(self, name, value)\u001b[0m\n\u001b[0;32m   5495\u001b[0m                 \u001b[1;32melse\u001b[0m\u001b[1;33m:\u001b[0m\u001b[1;33m\u001b[0m\u001b[1;33m\u001b[0m\u001b[0m\n\u001b[1;32m-> 5496\u001b[1;33m                     \u001b[0mobject\u001b[0m\u001b[1;33m.\u001b[0m\u001b[0m__setattr__\u001b[0m\u001b[1;33m(\u001b[0m\u001b[0mself\u001b[0m\u001b[1;33m,\u001b[0m \u001b[0mname\u001b[0m\u001b[1;33m,\u001b[0m \u001b[0mvalue\u001b[0m\u001b[1;33m)\u001b[0m\u001b[1;33m\u001b[0m\u001b[1;33m\u001b[0m\u001b[0m\n\u001b[0m\u001b[0;32m   5497\u001b[0m             \u001b[1;32mexcept\u001b[0m \u001b[1;33m(\u001b[0m\u001b[0mAttributeError\u001b[0m\u001b[1;33m,\u001b[0m \u001b[0mTypeError\u001b[0m\u001b[1;33m)\u001b[0m\u001b[1;33m:\u001b[0m\u001b[1;33m\u001b[0m\u001b[1;33m\u001b[0m\u001b[0m\n",
      "\u001b[1;31mAttributeError\u001b[0m: can't set attribute",
      "\nDuring handling of the above exception, another exception occurred:\n",
      "\u001b[1;31mAttributeError\u001b[0m                            Traceback (most recent call last)",
      "\u001b[1;32m<ipython-input-32-93ea03496640>\u001b[0m in \u001b[0;36m<module>\u001b[1;34m\u001b[0m\n\u001b[0;32m     27\u001b[0m \u001b[0ms\u001b[0m\u001b[1;33m=\u001b[0m\u001b[0mSubmit\u001b[0m\u001b[1;33m(\u001b[0m\u001b[1;34m'data/test_data.csv'\u001b[0m\u001b[1;33m,\u001b[0m\u001b[1;34m'model/exp2.th'\u001b[0m\u001b[1;33m,\u001b[0m\u001b[1;34m'model/kd.pth'\u001b[0m\u001b[1;33m,\u001b[0m\u001b[1;34m'vocab/vocab.txt'\u001b[0m\u001b[1;33m)\u001b[0m\u001b[1;33m\u001b[0m\u001b[1;33m\u001b[0m\u001b[0m\n\u001b[0;32m     28\u001b[0m \u001b[0mdf\u001b[0m\u001b[1;33m=\u001b[0m\u001b[0ms\u001b[0m\u001b[1;33m.\u001b[0m\u001b[0mmkres\u001b[0m\u001b[1;33m(\u001b[0m\u001b[1;33m)\u001b[0m\u001b[1;33m\u001b[0m\u001b[1;33m\u001b[0m\u001b[0m\n\u001b[1;32m---> 29\u001b[1;33m \u001b[0mdf\u001b[0m\u001b[1;33m=\u001b[0m\u001b[0ms\u001b[0m\u001b[1;33m.\u001b[0m\u001b[0mresult\u001b[0m\u001b[1;33m.\u001b[0m\u001b[0mdtypes\u001b[0m\u001b[1;33m=\u001b[0m\u001b[0mpd\u001b[0m\u001b[1;33m.\u001b[0m\u001b[0mInt32Dtype\u001b[0m\u001b[1;33m\u001b[0m\u001b[1;33m\u001b[0m\u001b[0m\n\u001b[0m\u001b[0;32m     30\u001b[0m \u001b[0mdf\u001b[0m\u001b[1;33m.\u001b[0m\u001b[0mto_csv\u001b[0m\u001b[1;33m(\u001b[0m\u001b[1;34m\"res/exp1.csv\"\u001b[0m\u001b[1;33m,\u001b[0m\u001b[0mindex\u001b[0m\u001b[1;33m=\u001b[0m\u001b[1;32mFalse\u001b[0m\u001b[1;33m)\u001b[0m\u001b[1;33m\u001b[0m\u001b[1;33m\u001b[0m\u001b[0m\n",
      "\u001b[1;32m~\\anaconda3\\lib\\site-packages\\pandas\\core\\generic.py\u001b[0m in \u001b[0;36m__setattr__\u001b[1;34m(self, name, value)\u001b[0m\n\u001b[0;32m   5504\u001b[0m                         \u001b[0mstacklevel\u001b[0m\u001b[1;33m=\u001b[0m\u001b[1;36m2\u001b[0m\u001b[1;33m,\u001b[0m\u001b[1;33m\u001b[0m\u001b[1;33m\u001b[0m\u001b[0m\n\u001b[0;32m   5505\u001b[0m                     )\n\u001b[1;32m-> 5506\u001b[1;33m                 \u001b[0mobject\u001b[0m\u001b[1;33m.\u001b[0m\u001b[0m__setattr__\u001b[0m\u001b[1;33m(\u001b[0m\u001b[0mself\u001b[0m\u001b[1;33m,\u001b[0m \u001b[0mname\u001b[0m\u001b[1;33m,\u001b[0m \u001b[0mvalue\u001b[0m\u001b[1;33m)\u001b[0m\u001b[1;33m\u001b[0m\u001b[1;33m\u001b[0m\u001b[0m\n\u001b[0m\u001b[0;32m   5507\u001b[0m \u001b[1;33m\u001b[0m\u001b[0m\n\u001b[0;32m   5508\u001b[0m     \u001b[1;33m@\u001b[0m\u001b[0mfinal\u001b[0m\u001b[1;33m\u001b[0m\u001b[1;33m\u001b[0m\u001b[0m\n",
      "\u001b[1;31mAttributeError\u001b[0m: can't set attribute"
     ]
    }
   ],
   "metadata": {}
  },
  {
   "cell_type": "code",
   "execution_count": 35,
   "source": [
    "s.result=s.result.fillna(0)\r\n",
    "s.result['KnowledgeID']=s.result['KnowledgeID'].astype(np.int64)\r\n",
    "s.result['q_Level']=s.result['q_Level'].astype(np.int64)\r\n",
    "df=s.result\r\n",
    "df.to_csv(\"res/exp1.csv\",index=False)"
   ],
   "outputs": [],
   "metadata": {}
  },
  {
   "cell_type": "code",
   "execution_count": 2,
   "source": [
    "pd.DataFrame().fill"
   ],
   "outputs": [],
   "metadata": {}
  },
  {
   "cell_type": "code",
   "execution_count": 38,
   "source": [
    "import os \r\n",
    "for root,dirs,files in os.walk(\"model/exp1/\"): \r\n",
    "    for file in files:\r\n",
    "        print(file)"
   ],
   "outputs": [
    {
     "output_type": "stream",
     "name": "stdout",
     "text": [
      "modele10.pth\n",
      "modele15.pth\n",
      "modele20.pth\n",
      "modele25.pth\n"
     ]
    }
   ],
   "metadata": {}
  },
  {
   "cell_type": "code",
   "execution_count": 30,
   "source": [
    "t[:10]"
   ],
   "outputs": [
    {
     "output_type": "execute_result",
     "data": {
      "text/plain": [
       "[1, 2, 3]"
      ]
     },
     "metadata": {},
     "execution_count": 30
    }
   ],
   "metadata": {}
  },
  {
   "cell_type": "code",
   "execution_count": null,
   "source": [],
   "outputs": [],
   "metadata": {}
  }
 ],
 "metadata": {
  "orig_nbformat": 4,
  "language_info": {
   "name": "python",
   "version": "3.8.8",
   "mimetype": "text/x-python",
   "codemirror_mode": {
    "name": "ipython",
    "version": 3
   },
   "pygments_lexer": "ipython3",
   "nbconvert_exporter": "python",
   "file_extension": ".py"
  },
  "kernelspec": {
   "name": "python3",
   "display_name": "Python 3.8.8 64-bit ('base': conda)"
  },
  "interpreter": {
   "hash": "40c4e17f077218d16613fe0a521debfb2207e39289331d3ad681e8733da961f0"
  }
 },
 "nbformat": 4,
 "nbformat_minor": 2
}